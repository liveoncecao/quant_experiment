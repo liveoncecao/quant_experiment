{
 "cells": [
  {
   "cell_type": "code",
   "execution_count": 1175,
   "metadata": {},
   "outputs": [],
   "source": [
    "#!pip install quant_experiment"
   ]
  },
  {
   "cell_type": "code",
   "execution_count": 1177,
   "metadata": {},
   "outputs": [],
   "source": [
    "key = 'SNYPM900YT9SADEA'"
   ]
  },
  {
   "cell_type": "code",
   "execution_count": 1178,
   "metadata": {},
   "outputs": [],
   "source": [
    "from quant_experiment import finproducts"
   ]
  },
  {
   "cell_type": "code",
   "execution_count": 1188,
   "metadata": {},
   "outputs": [],
   "source": [
    "from datetime import datetime"
   ]
  },
  {
   "cell_type": "code",
   "execution_count": 1190,
   "metadata": {},
   "outputs": [],
   "source": [
    "option_demo = VanillaOption('AAPL', 21, 6, 2019, 180, 'calls')"
   ]
  },
  {
   "cell_type": "code",
   "execution_count": 1195,
   "metadata": {},
   "outputs": [],
   "source": [
    "option_demo.option_info().to_csv('option_info.csv')"
   ]
  },
  {
   "cell_type": "code",
   "execution_count": null,
   "metadata": {},
   "outputs": [],
   "source": []
  },
  {
   "cell_type": "code",
   "execution_count": null,
   "metadata": {},
   "outputs": [],
   "source": []
  },
  {
   "cell_type": "code",
   "execution_count": 1191,
   "metadata": {},
   "outputs": [
    {
     "name": "stdout",
     "output_type": "stream",
     "text": [
      "Help on VanillaOption in module __main__ object:\n",
      "\n",
      "class VanillaOption(builtins.object)\n",
      " |  VanillaOption(symbol, d, m, y, strike, type)\n",
      " |  \n",
      " |  Methods defined here:\n",
      " |  \n",
      " |  BS_Info(self, key=None, info_name='implied_vol', q=0)\n",
      " |      Based on Black Scholes model, calculated implied vol will lose its accuracy for DeepInTheMoney\n",
      " |      and DeepOutOfMoney options with relatively short time to maturity, use with your own discretion\n",
      " |  \n",
      " |  __init__(self, symbol, d, m, y, strike, type)\n",
      " |      :param symbol: e.g. 'AAPL', 'MSFT'\n",
      " |      :param d: e.g. 1,2,3,...,31\n",
      " |      :param m: e.g. 1,2,....,12\n",
      " |      :param y: e.g. 2018,2019\n",
      " |      :param strike: e.g. 100,105\n",
      " |      :param type: e.g. 'call' or 'put'\n",
      " |  \n",
      " |  option_info(self)\n",
      " |      :return: return information for the vanilla option\n",
      " |  \n",
      " |  ----------------------------------------------------------------------\n",
      " |  Data descriptors defined here:\n",
      " |  \n",
      " |  __dict__\n",
      " |      dictionary for instance variables (if defined)\n",
      " |  \n",
      " |  __weakref__\n",
      " |      list of weak references to the object (if defined)\n",
      "\n"
     ]
    }
   ],
   "source": [
    "help(option_demo)"
   ]
  },
  {
   "cell_type": "code",
   "execution_count": null,
   "metadata": {},
   "outputs": [],
   "source": []
  },
  {
   "cell_type": "code",
   "execution_count": null,
   "metadata": {},
   "outputs": [],
   "source": []
  },
  {
   "cell_type": "code",
   "execution_count": null,
   "metadata": {},
   "outputs": [],
   "source": []
  },
  {
   "cell_type": "code",
   "execution_count": null,
   "metadata": {},
   "outputs": [],
   "source": []
  },
  {
   "cell_type": "code",
   "execution_count": null,
   "metadata": {},
   "outputs": [],
   "source": []
  },
  {
   "cell_type": "code",
   "execution_count": 1183,
   "metadata": {
    "scrolled": true
   },
   "outputs": [
    {
     "name": "stdout",
     "output_type": "stream",
     "text": [
      "Help on Stock in module __main__ object:\n",
      "\n",
      "class Stock(builtins.object)\n",
      " |  Stock(symbol, key=None)\n",
      " |  \n",
      " |  Methods defined here:\n",
      " |  \n",
      " |  __init__(self, symbol, key=None)\n",
      " |      Initialize self.  See help(type(self)) for accurate signature.\n",
      " |  \n",
      " |  ----------------------------------------------------------------------\n",
      " |  Data descriptors defined here:\n",
      " |  \n",
      " |  __dict__\n",
      " |      dictionary for instance variables (if defined)\n",
      " |  \n",
      " |  __weakref__\n",
      " |      list of weak references to the object (if defined)\n",
      " |  \n",
      " |  change\n",
      " |  \n",
      " |  changePercent\n",
      " |  \n",
      " |  high\n",
      " |  \n",
      " |  latestTradingDay\n",
      " |  \n",
      " |  low\n",
      " |  \n",
      " |  open\n",
      " |  \n",
      " |  previousclose\n",
      " |  \n",
      " |  price\n",
      " |  \n",
      " |  volume\n",
      "\n"
     ]
    }
   ],
   "source": [
    "stock_demo = Stock('AAPL',key)\n",
    "help(stock_demo)"
   ]
  },
  {
   "cell_type": "code",
   "execution_count": 1184,
   "metadata": {},
   "outputs": [
    {
     "data": {
      "text/plain": [
       "'2019-03-15'"
      ]
     },
     "execution_count": 1184,
     "metadata": {},
     "output_type": "execute_result"
    }
   ],
   "source": [
    "stock_demo.latestTradingDay"
   ]
  },
  {
   "cell_type": "code",
   "execution_count": null,
   "metadata": {},
   "outputs": [],
   "source": []
  },
  {
   "cell_type": "code",
   "execution_count": null,
   "metadata": {},
   "outputs": [],
   "source": []
  },
  {
   "cell_type": "code",
   "execution_count": null,
   "metadata": {},
   "outputs": [],
   "source": []
  },
  {
   "cell_type": "code",
   "execution_count": null,
   "metadata": {},
   "outputs": [],
   "source": []
  },
  {
   "cell_type": "code",
   "execution_count": null,
   "metadata": {},
   "outputs": [],
   "source": []
  }
 ],
 "metadata": {
  "kernelspec": {
   "display_name": "Python 3",
   "language": "python",
   "name": "python3"
  },
  "language_info": {
   "codemirror_mode": {
    "name": "ipython",
    "version": 3
   },
   "file_extension": ".py",
   "mimetype": "text/x-python",
   "name": "python",
   "nbconvert_exporter": "python",
   "pygments_lexer": "ipython3",
   "version": "3.7.1"
  }
 },
 "nbformat": 4,
 "nbformat_minor": 2
}
